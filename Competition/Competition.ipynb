{
 "cells": [
  {
   "cell_type": "code",
   "execution_count": 7,
   "id": "d0b99c72",
   "metadata": {
    "ExecuteTime": {
     "end_time": "2025-10-27T22:39:59.229986700Z",
     "start_time": "2025-10-27T22:39:59.221583Z"
    }
   },
   "outputs": [],
   "source": [
    "%matplotlib inline"
   ]
  },
  {
   "cell_type": "markdown",
   "id": "697ca07b",
   "metadata": {
    "cell_marker": "############################################################################"
   },
   "source": [
    "## Written by Gaojie Jin and updated by Xiaowei Huang, 2021\n",
    "##\n",
    "## For a 2-nd year undergraduate student competition on \n",
    "## the robustness of deep neural networks, where a student \n",
    "## needs to develop \n",
    "## 1. an attack algorithm, and \n",
    "## 2. an adversarial training algorithm\n",
    "##\n",
    "## The score is based on both algorithms. \n",
    "###########################################################################"
   ]
  },
  {
   "cell_type": "code",
   "execution_count": 8,
   "id": "de482c5c",
   "metadata": {
    "ExecuteTime": {
     "end_time": "2025-10-27T22:39:59.239819Z",
     "start_time": "2025-10-27T22:39:59.232112Z"
    }
   },
   "outputs": [],
   "source": [
    "\n",
    "import numpy as np\n",
    "import pandas as pd\n",
    "import torch\n",
    "import torch.nn as nn\n",
    "import torch.nn.functional as F\n",
    "from torch.utils.data import Dataset, DataLoader\n",
    "import torch.optim as optim\n",
    "import torchvision\n",
    "from torchvision import transforms\n",
    "from torch.autograd import Variable\n",
    "import argparse\n",
    "import time\n",
    "import copy\n",
    "\n",
    "# Change this id to your student id\n",
    "id_ = 1000\n",
    "\n",
    "# setup training parameters\n",
    "parser = argparse.ArgumentParser(description='PyTorch MNIST Training')\n",
    "parser.add_argument('--batch-size', type=int, default=128, metavar='N',\n",
    "                    help='input batch size for training (default: 128)')\n",
    "parser.add_argument('--test-batch-size', type=int, default=128, metavar='N',\n",
    "                    help='input batch size for testing (default: 128)')\n",
    "parser.add_argument('--epochs', type=int, default=10, metavar='N',\n",
    "                    help='number of epochs to train')\n",
    "parser.add_argument('--lr', type=float, default=0.01, metavar='LR',\n",
    "                    help='learning rate')\n",
    "parser.add_argument('--no-cuda', action='store_true', default=False,\n",
    "                    help='disables CUDA training')\n",
    "parser.add_argument('--seed', type=int, default=1, metavar='S',\n",
    "                    help='random seed (default: 1)')\n",
    "\n",
    "\n",
    "args = parser.parse_args(args=[]) \n",
    "\n",
    "# judge cuda is available or not\n",
    "use_cuda = not args.no_cuda and torch.cuda.is_available()\n",
    "#device = torch.device(\"cuda\" if use_cuda else \"cpu\")\n",
    "device = torch.device(\"cpu\")\n",
    "\n",
    "torch.manual_seed(args.seed)\n",
    "kwargs = {'num_workers': 1, 'pin_memory': True} if use_cuda else {}"
   ]
  },
  {
   "cell_type": "markdown",
   "id": "ef2bb780",
   "metadata": {
    "cell_marker": "############################################################################",
    "lines_to_next_cell": 0
   },
   "source": [
    "###############    don't change the below code    #####################\n",
    "###########################################################################"
   ]
  },
  {
   "cell_type": "code",
   "execution_count": 9,
   "id": "5427baee",
   "metadata": {
    "lines_to_next_cell": 1,
    "ExecuteTime": {
     "end_time": "2025-10-27T22:39:59.282080200Z",
     "start_time": "2025-10-27T22:39:59.244197600Z"
    }
   },
   "outputs": [],
   "source": [
    "train_set = torchvision.datasets.FashionMNIST(root='data', train=True, download=True, transform=transforms.Compose([transforms.ToTensor()]))\n",
    "train_loader = DataLoader(train_set, batch_size=args.batch_size, shuffle=True)\n",
    "\n",
    "test_set = torchvision.datasets.FashionMNIST(root='data', train=False, download=True, transform=transforms.Compose([transforms.ToTensor()]))\n",
    "test_loader = DataLoader(test_set, batch_size=args.batch_size, shuffle=True)\n",
    "\n",
    "# define fully connected network\n",
    "class Net(nn.Module):\n",
    "    def __init__(self):\n",
    "        super(Net, self).__init__()\n",
    "        self.fc1 = nn.Linear(28*28, 128)\n",
    "        self.fc2 = nn.Linear(128, 64)\n",
    "        self.fc3 = nn.Linear(64, 32)\n",
    "        self.fc4 = nn.Linear(32, 10)\n",
    "\n",
    "    def forward(self, x):\n",
    "        x = self.fc1(x)\n",
    "        x = F.relu(x)\n",
    "        x = self.fc2(x)\n",
    "        x = F.relu(x)\n",
    "        x = self.fc3(x)\n",
    "        x = F.relu(x)\n",
    "        x = self.fc4(x)\n",
    "        output = F.log_softmax(x, dim=1)\n",
    "        return output"
   ]
  },
  {
   "cell_type": "markdown",
   "id": "b0fde66c",
   "metadata": {
    "cell_marker": "##############################################################################"
   },
   "source": [
    "############    end of \"don't change the below code\"   ######################\n",
    "#############################################################################"
   ]
  },
  {
   "cell_type": "code",
   "execution_count": 10,
   "id": "52543ada",
   "metadata": {
    "lines_to_next_cell": 1,
    "ExecuteTime": {
     "end_time": "2025-10-27T22:39:59.302274400Z",
     "start_time": "2025-10-27T22:39:59.290204Z"
    }
   },
   "outputs": [],
   "source": [
    "#generate adversarial data, you can define your adversarial method\n",
    "def adv_attack(model, X, y, device):\n",
    "    X_adv = Variable(X.data)\n",
    "    \n",
    "    ################################################################################################\n",
    "    ## Note: below is the place you need to edit to implement your own attack algorithm\n",
    "    ################################################################################################\n",
    "    \n",
    "    random_noise = torch.FloatTensor(*X_adv.shape).uniform_(-0.1, 0.1).to(device)\n",
    "    X_adv = Variable(X_adv.data + random_noise)\n",
    "    \n",
    "    ################################################################################################\n",
    "    ## end of attack method\n",
    "    ################################################################################################\n",
    "    \n",
    "    return X_adv\n",
    "\n",
    "#train function, you can use adversarial training\n",
    "def train(args, model, device, train_loader, optimizer, epoch):\n",
    "    model.train()\n",
    "    for batch_idx, (data, target) in enumerate(train_loader):\n",
    "        data, target = data.to(device), target.to(device)\n",
    "        data = data.view(data.size(0),28*28)\n",
    "        \n",
    "        #use adverserial data to train the defense model\n",
    "        #adv_data = adv_attack(model, data, target, device=device)\n",
    "        \n",
    "        #clear gradients\n",
    "        optimizer.zero_grad()\n",
    "        \n",
    "        #compute loss\n",
    "        #loss = F.nll_loss(model(adv_data), target)\n",
    "        loss = F.nll_loss(model(data), target)\n",
    "        \n",
    "        #get gradients and update\n",
    "        loss.backward()\n",
    "        optimizer.step()\n",
    "        \n",
    "\n",
    "\n",
    "#predict function\n",
    "def eval_test(model, device, test_loader):\n",
    "    model.eval()\n",
    "    test_loss = 0\n",
    "    correct = 0\n",
    "    with torch.no_grad():\n",
    "        for data, target in test_loader:\n",
    "            data, target = data.to(device), target.to(device)\n",
    "            data = data.view(data.size(0),28*28)\n",
    "            output = model(data)\n",
    "            test_loss += F.nll_loss(output, target, size_average=False).item()\n",
    "            pred = output.max(1, keepdim=True)[1]\n",
    "            correct += pred.eq(target.view_as(pred)).sum().item()\n",
    "    test_loss /= len(test_loader.dataset)\n",
    "    test_accuracy = correct / len(test_loader.dataset)\n",
    "    return test_loss, test_accuracy\n",
    "\n",
    "def eval_adv_test(model, device, test_loader):\n",
    "    model.eval()\n",
    "    test_loss = 0\n",
    "    correct = 0\n",
    "    for data, target in test_loader:\n",
    "        data, target = data.to(device), target.to(device)\n",
    "        data = data.view(data.size(0),28*28)\n",
    "        adv_data = adv_attack(model, data, target, device=device)\n",
    "        with torch.no_grad():\n",
    "            output = model(adv_data)\n",
    "            test_loss += F.nll_loss(output, target, size_average=False).item()\n",
    "            pred = output.max(1, keepdim=True)[1]\n",
    "            correct += pred.eq(target.view_as(pred)).sum().item()\n",
    "    test_loss /= len(test_loader.dataset)\n",
    "    test_accuracy = correct / len(test_loader.dataset)\n",
    "    return test_loss, test_accuracy\n",
    "\n",
    "#main function, train the dataset and print train loss, test loss for each epoch\n",
    "def train_model():\n",
    "    model = Net().to(device)\n",
    "    \n",
    "    ################################################################################################\n",
    "    ## Note: below is the place you need to edit to implement your own training algorithm\n",
    "    ##       You can also edit the functions such as train(...). \n",
    "    ################################################################################################\n",
    "    \n",
    "    optimizer = optim.SGD(model.parameters(), lr=args.lr)\n",
    "    for epoch in range(1, args.epochs + 1):\n",
    "        start_time = time.time()\n",
    "        \n",
    "        #training\n",
    "        train(args, model, device, train_loader, optimizer, epoch)\n",
    "        \n",
    "        #get trnloss and testloss\n",
    "        trnloss, trnacc = eval_test(model, device, train_loader)\n",
    "        advloss, advacc = eval_adv_test(model, device, train_loader)\n",
    "        \n",
    "        #print trnloss and testloss\n",
    "        print('Epoch '+str(epoch)+': '+str(int(time.time()-start_time))+'s', end=', ')\n",
    "        print('trn_loss: {:.4f}, trn_acc: {:.2f}%'.format(trnloss, 100. * trnacc), end=', ')\n",
    "        print('adv_loss: {:.4f}, adv_acc: {:.2f}%'.format(advloss, 100. * advacc))\n",
    "\n",
    "    ################################################################################################\n",
    "    ## end of training method\n",
    "    ################################################################################################\n",
    "\n",
    "    print('\\n' + '='*80)\n",
    "    print('Training completed! Model saved as: {}.pt'.format(id_))\n",
    "    print('='*80)\n",
    "    print('\\nTo evaluate your attack and defence scores:')\n",
    "    print('  1. Test your attack:  python Evaluate_attack.py')\n",
    "    print('  2. Test your defence: python Evaluate_defence.py')\n",
    "    print('\\nMake sure to:')\n",
    "    print('  - Update attack method in Evaluate_attack.py')\n",
    "    print('  - Update model file path in Evaluate_defence.py')\n",
    "    print('  - Verify epsilon constraint < 0.11 (see p_distance output below)')\n",
    "    print('='*80 + '\\n')\n",
    "    \n",
    "    #save the model\n",
    "    torch.save(model.state_dict(), str(id_)+'.pt')\n",
    "    return model\n",
    "\n",
    "#compute perturbation distance\n",
    "def p_distance(model, train_loader, device):\n",
    "    p = []\n",
    "    for batch_idx, (data, target) in enumerate(train_loader):\n",
    "        data, target = data.to(device), target.to(device)\n",
    "        data = data.view(data.size(0),28*28)\n",
    "        data_ = copy.deepcopy(data.data)\n",
    "        adv_data = adv_attack(model, data, target, device=device)\n",
    "        p.append(torch.norm(data_-adv_data, float('inf')))\n",
    "    print('epsilon p: ',max(p))\n"
   ]
  },
  {
   "cell_type": "markdown",
   "id": "45605828",
   "metadata": {
    "cell_marker": "################################################################################################"
   },
   "source": [
    "# Note: below is for testing/debugging purpose, please comment them out in the submission file\n",
    "###############################################################################################"
   ]
  },
  {
   "cell_type": "code",
   "execution_count": 11,
   "id": "56feae88",
   "metadata": {
    "ExecuteTime": {
     "end_time": "2025-10-27T22:41:51.378240700Z",
     "start_time": "2025-10-27T22:39:59.294595700Z"
    }
   },
   "outputs": [
    {
     "name": "stderr",
     "output_type": "stream",
     "text": [
      "D:\\Software\\anaconda3\\envs\\aisafety\\Lib\\site-packages\\torch\\nn\\_reduction.py:51: UserWarning: size_average and reduce args will be deprecated, please use reduction='sum' instead.\n",
      "  warnings.warn(warning.format(ret))\n"
     ]
    },
    {
     "name": "stdout",
     "output_type": "stream",
     "text": [
      "Epoch 1: 10s, trn_loss: 1.9006, trn_acc: 38.39%, adv_loss: 1.9011, adv_acc: 38.39%\n",
      "Epoch 2: 11s, trn_loss: 1.0741, trn_acc: 61.13%, adv_loss: 1.0752, adv_acc: 61.16%\n",
      "Epoch 3: 10s, trn_loss: 0.8683, trn_acc: 68.08%, adv_loss: 0.8693, adv_acc: 68.05%\n",
      "Epoch 4: 10s, trn_loss: 0.7805, trn_acc: 69.71%, adv_loss: 0.7822, adv_acc: 69.67%\n",
      "Epoch 5: 10s, trn_loss: 0.7016, trn_acc: 74.82%, adv_loss: 0.7034, adv_acc: 74.76%\n",
      "Epoch 6: 10s, trn_loss: 0.6594, trn_acc: 76.19%, adv_loss: 0.6614, adv_acc: 76.08%\n",
      "Epoch 7: 10s, trn_loss: 0.6244, trn_acc: 77.27%, adv_loss: 0.6271, adv_acc: 77.13%\n",
      "Epoch 8: 10s, trn_loss: 0.5785, trn_acc: 79.36%, adv_loss: 0.5820, adv_acc: 79.27%\n",
      "Epoch 9: 11s, trn_loss: 0.5520, trn_acc: 80.75%, adv_loss: 0.5555, adv_acc: 80.61%\n",
      "Epoch 10: 12s, trn_loss: 0.5375, trn_acc: 81.05%, adv_loss: 0.5409, adv_acc: 80.87%\n",
      "\n",
      "================================================================================\n",
      "Training completed! Model saved as: 1000.pt\n",
      "================================================================================\n",
      "\n",
      "To evaluate your attack and defence scores:\n",
      "  1. Test your attack:  python Evaluate_attack.py\n",
      "  2. Test your defence: python Evaluate_defence.py\n",
      "\n",
      "Make sure to:\n",
      "  - Update attack method in Evaluate_attack.py\n",
      "  - Update model file path in Evaluate_defence.py\n",
      "  - Verify epsilon constraint < 0.11 (see p_distance output below)\n",
      "================================================================================\n",
      "\n",
      "epsilon p:  tensor(0.1000)\n"
     ]
    }
   ],
   "source": [
    "#Comment out the following command when you do not want to re-train the model\n",
    "#In that case, it will load a pre-trained model you saved in train_model()\n",
    "model = train_model()\n",
    "\n",
    "#Call adv_attack() method on a pre-trained model'\n",
    "#the robustness of the model is evaluated against the infinite-norm distance measure\n",
    "#important: MAKE SURE the infinite-norm distance (epsilon p) less than 0.11 !!!\n",
    "p_distance(model, train_loader, device)"
   ]
  }
 ],
 "metadata": {
  "jupytext": {
   "cell_metadata_filter": "-all",
   "main_language": "python",
   "notebook_metadata_filter": "-all"
  },
  "kernelspec": {
   "display_name": "Python (aisafety)",
   "language": "python",
   "name": "aisafety"
  }
 },
 "nbformat": 4,
 "nbformat_minor": 5
}
